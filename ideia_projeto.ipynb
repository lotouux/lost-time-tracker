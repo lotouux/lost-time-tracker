{
 "cells": [
  {
   "metadata": {},
   "cell_type": "markdown",
   "source": [
    "# Calculadora de Tempo Perdido\n",
    "\n",
    "## 1. Ideia do Projeto\n",
    "Script em Python que acessa os dados de tempo de uso do sistema operacional.\n",
    "\n",
    "Calcula quanto tempo o usuário gasta em atividades como:\n",
    "- Redes sociais / Navegadores\n",
    "- Streaming (filmes, séries, YouTube)\n",
    "- Jogos\n",
    "- Aplicativos de produtividade ou outros\n",
    "\n",
    "Converte esses dados para estatísticas semanais, mensais e anuais.\n",
    "Mostra equivalentes criativos, como livros lidos, filmes assistidos ou km corridos."
   ],
   "id": "f2e45d0fa6cf2bc"
  },
  {
   "metadata": {},
   "cell_type": "markdown",
   "source": [
    "## 2. Ferramentas:\n",
    "- Python 3.12\n",
    "    - Windows: leitura de registros do Tempo de Uso / Focus Assist via winreg ou API de produtividade do Windows (possivelmente via pywin32).\n",
    "    - macOS: via AppleScript (osascript) ou frameworks como CoreData/ScreenTime.\n",
    "    - Linux: pode depender do ambiente desktop (GNOME/KDE) ou logs de atividade.\n",
    "- tabulate / prettytable → para tabelas no terminal.\n",
    "- matplotlib → gráficos de tempo perdido."
   ],
   "id": "ded943df398f8784"
  },
  {
   "metadata": {},
   "cell_type": "markdown",
   "source": [
    "## 3. Fases do projeto\n",
    "- Coleta de dados\n",
    "    - Acessar os dados nativos de tempo de uso do SO.\n",
    "    - Mapear aplicativos e categorizar em grupos (ex: Chrome → Redes Sociais/Streaming).\n",
    "\n",
    "- Calculos principais\n",
    "    - Converter o tempo em horas por semana/mês/ano\n",
    "    - Transformar em equivalentes de produtividade: livros, filmes, maratonas, km, etc.\n",
    "\n",
    "- Exibir resultados de forma clara e intuitiva (tabela).\n",
    "\n",
    "- Visual extra\n",
    "    - Gráficos mostrando tempo por categoria.\n",
    "    - Relatórios exportáveis em .txt ou .pdf."
   ],
   "id": "2a72e3386b1f6574"
  },
  {
   "metadata": {},
   "cell_type": "code",
   "outputs": [],
   "execution_count": null,
   "source": [
    "# Lib para coletar informações do SO windows\n",
    "import wmi"
   ],
   "id": "eec812b8c10e67a5"
  },
  {
   "metadata": {
    "ExecuteTime": {
     "end_time": "2025-08-31T03:17:42.591081Z",
     "start_time": "2025-08-31T03:17:42.582865Z"
    }
   },
   "cell_type": "code",
   "source": [
    "# Lib para manipular dados e tabelas\n",
    "import pandas as pd\n",
    "\n",
    "# Converter horários de logs para OBJ de tempo, subtrair hora de fechamento-hora de abertura=tempo gasto, agrupar os dados por dia da semana\n",
    "from datetime import datetime, timedelta"
   ],
   "id": "46340de21b3b763",
   "outputs": [],
   "execution_count": 77
  },
  {
   "metadata": {},
   "cell_type": "code",
   "outputs": [],
   "execution_count": null,
   "source": [
    "# Nomes de aplicativos para ignorar\n",
    "ignore_list = [\n",
    "    \"svchost.exe\", \"RuntimeBroker.exe\", \"dllhost.exe\",\n",
    "    \"SearchIndexer.exe\", \"conhost.exe\", \"LockApp.exe\",\n",
    "    \"wlanext.exe\", \"unsecapp.exe\", \"WmiPrvSE.exe\", \"lsass.exe\",\n",
    "    \"csrss.exe\", \"smss.exe\", \"wininit.exe\", \"winlogon.exe\",\n",
    "    \"System Idle Process\", \"explorer.exe\", \"py.exe\", \"python.exe\", \"pythonw.exe\"\n",
    "]"
   ],
   "id": "8f1a2d432f1fc3d4"
  },
  {
   "metadata": {
    "ExecuteTime": {
     "end_time": "2025-08-31T03:17:42.599750Z",
     "start_time": "2025-08-31T03:17:42.596089Z"
    }
   },
   "cell_type": "code",
   "source": [
    "# Mapeamento de categorias de apps\n",
    "categories = {\n",
    "    \"chrome.exe\": \"Navegador\",\n",
    "    \"msedge.exe\": \"Navegador\",\n",
    "    \"Discord.exe\": \"Comunicação\",\n",
    "    \"WhatsApp.exe\": \"Comunicação\",\n",
    "    \"steam.exe\": \"Jogos\",\n",
    "    \"steamwebhelper.exe\": \"Jogos\",\n",
    "    \"pycharm64.exe\": \"Produtividade\",\n",
    "    \"powershell.exe\": \"Produtividade\",\n",
    "    \"idea64.exe\": \"Produtividade\",\n",
    "    \"code.exe\": \"Produtividade\",\n",
    "    \"Spotify.exe\": \"Entretenimento\",\n",
    "    \"vlc.exe\": \"Entretenimento\",\n",
    "    \"Netflix.exe\": \"Entretenimento\"\n",
    "}"
   ],
   "id": "7410636b53a0160b",
   "outputs": [],
   "execution_count": 78
  },
  {
   "metadata": {},
   "cell_type": "code",
   "outputs": [],
   "execution_count": null,
   "source": [
    "# --- Analisador de Dados Históricos ---\n",
    "def run_analyzer_historical():\n",
    "    try:\n",
    "        # Conectar ao WMI\n",
    "        conn = wmi.WMI()\n",
    "\n",
    "        # Definir período: últimos 7 dias\n",
    "        data_limite = datetime.now() - timedelta(days=7)\n",
    "\n",
    "        # Lista para armazenar dados coletados\n",
    "        processos = []\n",
    "\n",
    "        # Obter todos os processos criados na última semana\n",
    "        # Nota: WMI não armazena a hora de término. Para os processos que estão ativos, a duração\n",
    "        # é calculada até o momento da execução do script. Para os que foram encerrados,\n",
    "        # a duração exata não é conhecida, por isso esta abordagem é uma estimativa.\n",
    "        for p in conn.Win32_Process():\n",
    "            try:\n",
    "                start_time_str = p.CreationDate.split('.')[0]\n",
    "                start_time = datetime.strptime(start_time_str, \"%Y%m%d%H%M%S\")\n",
    "\n",
    "                if start_time >= data_limite:\n",
    "                    # Para simplificar e manter a lógica do seu código, a duração é calculada\n",
    "                    # do início até agora. Isso é uma estimativa para o propósito do projeto.\n",
    "                    duration = (datetime.now() - start_time).total_seconds() / 3600  # horas\n",
    "\n",
    "                    processos.append({\n",
    "                        \"app\": p.Name,\n",
    "                        \"start_time\": start_time,\n",
    "                        \"duration_hours\": duration\n",
    "                    })\n",
    "            except Exception as e:\n",
    "                # Ignora erros em processos do sistema que não têm data de criação\n",
    "                continue"
   ],
   "id": "faaa48b1a1af2529"
  },
  {
   "metadata": {
    "ExecuteTime": {
     "end_time": "2025-08-31T03:17:42.608757Z",
     "start_time": "2025-08-31T03:17:42.605758Z"
    }
   },
   "cell_type": "code",
   "source": [
    "# Lista para armazenar dados coletados\n",
    "processos = []"
   ],
   "id": "448944f348602201",
   "outputs": [],
   "execution_count": 79
  },
  {
   "metadata": {
    "ExecuteTime": {
     "end_time": "2025-08-31T03:17:50.351649Z",
     "start_time": "2025-08-31T03:17:42.614221Z"
    }
   },
   "cell_type": "code",
   "source": [
    "# Iterar pelos processos recentes\n",
    "for p in conn.Win32_Process():\n",
    "    try:\n",
    "        # Pega informações de criação\n",
    "        start_time = datetime.strptime(p.CreationDate.split('.')[0], \"%Y%m%d%H%M%S\")\n",
    "        if start_time >= data_limite:\n",
    "            # Se não tiver fim registrado, ele considera que terminou agora\n",
    "            end_time = datetime.now()\n",
    "            processos.append({\n",
    "                \"app\": p.Name,\n",
    "                \"start_time\": start_time,\n",
    "                \"end_time\": end_time,\n",
    "                \"duration\": (end_time - start_time).total_seconds()/3600  # horas\n",
    "            })\n",
    "    except:\n",
    "        continue"
   ],
   "id": "b0f28700116af4ac",
   "outputs": [],
   "execution_count": 80
  },
  {
   "metadata": {
    "ExecuteTime": {
     "end_time": "2025-08-31T03:17:50.363247Z",
     "start_time": "2025-08-31T03:17:50.359012Z"
    }
   },
   "cell_type": "code",
   "source": [
    "# Criar DataFrame\n",
    "df = pd.DataFrame(processos)"
   ],
   "id": "62e4ae7023a4f4dd",
   "outputs": [],
   "execution_count": 81
  },
  {
   "metadata": {
    "ExecuteTime": {
     "end_time": "2025-08-31T03:17:50.374004Z",
     "start_time": "2025-08-31T03:17:50.368777Z"
    }
   },
   "cell_type": "code",
   "source": [
    "ignore_list = [\n",
    "    \"svchost.exe\", \"RuntimeBroker.exe\", \"dllhost.exe\",\n",
    "    \"SearchIndexer.exe\", \"conhost.exe\", \"LockApp.exe\",\n",
    "    \"wlanext.exe\", \"unsecapp.exe\", \"WmiPrvSE.exe\"\n",
    "]\n",
    "df = df[~df[\"app\"].isin(ignore_list)]"
   ],
   "id": "6f7d937ed5f9da69",
   "outputs": [],
   "execution_count": 82
  },
  {
   "metadata": {
    "ExecuteTime": {
     "end_time": "2025-08-31T03:17:50.382635Z",
     "start_time": "2025-08-31T03:17:50.378538Z"
    }
   },
   "cell_type": "code",
   "source": [
    "categories = {\n",
    "    \"chrome.exe\": \"Navegador\",\n",
    "    \"msedge.exe\": \"Navegador\",\n",
    "    \"Discord.exe\": \"Comunicação\",\n",
    "    \"WhatsApp.exe\": \"Comunicação\",\n",
    "    \"steam.exe\": \"Jogos\",\n",
    "    \"steamwebhelper.exe\": \"Jogos\",\n",
    "    \"pycharm64.exe\": \"Produtividade\",\n",
    "    \"powershell.exe\": \"Produtividade\",\n",
    "}\n",
    "df[\"category\"] = df[\"app\"].map(categories).fillna(\"Outros\")"
   ],
   "id": "286931f8a9ac31ed",
   "outputs": [],
   "execution_count": 83
  },
  {
   "metadata": {
    "ExecuteTime": {
     "end_time": "2025-08-31T03:17:50.390657Z",
     "start_time": "2025-08-31T03:17:50.386649Z"
    }
   },
   "cell_type": "code",
   "source": [
    "# Agrupar por aplicativo\n",
    "resumo = df.groupby(\"category\")[\"duration\"].sum().sort_values(ascending=False)"
   ],
   "id": "63063dd451e3be0c",
   "outputs": [],
   "execution_count": 84
  },
  {
   "metadata": {
    "ExecuteTime": {
     "end_time": "2025-08-31T03:17:50.400573Z",
     "start_time": "2025-08-31T03:17:50.396675Z"
    }
   },
   "cell_type": "code",
   "source": "print(resumo)",
   "id": "d5d2606109cda645",
   "outputs": [
    {
     "name": "stdout",
     "output_type": "stream",
     "text": [
      "category\n",
      "Outros           5597.840119\n",
      "Comunicação       359.700773\n",
      "Navegador         229.749683\n",
      "Jogos              54.705138\n",
      "Produtividade       8.047676\n",
      "Name: duration, dtype: float64\n"
     ]
    }
   ],
   "execution_count": 85
  },
  {
   "metadata": {
    "ExecuteTime": {
     "end_time": "2025-08-31T03:17:50.422440Z",
     "start_time": "2025-08-31T03:17:50.415821Z"
    }
   },
   "cell_type": "code",
   "source": [
    "\n",
    "def converter_tempo_flexivel(valores, unidade_preferida=None):\n",
    "    \"\"\"\n",
    "    Converte os tempos de uso para minutos, horas ou dias.\n",
    "\n",
    "    parâmetros:\n",
    "    - valores: pd.Series com tempo em minutos\n",
    "    - unidade_preferida: \"minutos\", \"horas\" ou \"dias\". Se None, a função escolhe automaticamente\n",
    "\n",
    "    retorna:\n",
    "    - valores convertidos\n",
    "    - unidade usada\n",
    "    \"\"\"\n",
    "    total_minutos = valores.sum()\n",
    "\n",
    "    # Se o usuário não especificou, escolhe automaticamente\n",
    "    if unidade_preferida is None:\n",
    "        if total_minutos < 60:\n",
    "            unidade = \"minutos\"\n",
    "        elif total_minutos < 24 * 60:\n",
    "            unidade = \"horas\"\n",
    "        else:\n",
    "            unidade = \"dias\"\n",
    "    else:\n",
    "        unidade = unidade_preferida\n",
    "\n",
    "    # Converte\n",
    "    if unidade == \"minutos\":\n",
    "        return valores, \"minutos\"\n",
    "    elif unidade == \"horas\":\n",
    "        return valores / 60, \"horas\"\n",
    "    elif unidade == \"dias\":\n",
    "        return valores / (60*24), \"dias\"\n",
    "    else:\n",
    "        raise ValueError(\"Unidade inválida! Escolha minutos, horas ou dias.\")\n",
    "\n",
    "# -------------------------------\n",
    "# Exemplo de uso\n",
    "\n",
    "convertidos, unidade = converter_tempo_flexivel(resumo)\n",
    "print(convertidos)\n",
    "print(f\"Unidade usada: {\"minutos\"}\")"
   ],
   "id": "c58d7addbae89b09",
   "outputs": [
    {
     "name": "stdout",
     "output_type": "stream",
     "text": [
      "category\n",
      "Outros           3.887389\n",
      "Comunicação      0.249792\n",
      "Navegador        0.159548\n",
      "Jogos            0.037990\n",
      "Produtividade    0.005589\n",
      "Name: duration, dtype: float64\n",
      "Unidade usada: minutos\n"
     ]
    }
   ],
   "execution_count": 86
  }
 ],
 "metadata": {
  "kernelspec": {
   "display_name": "Python 3",
   "language": "python",
   "name": "python3"
  },
  "language_info": {
   "codemirror_mode": {
    "name": "ipython",
    "version": 2
   },
   "file_extension": ".py",
   "mimetype": "text/x-python",
   "name": "python",
   "nbconvert_exporter": "python",
   "pygments_lexer": "ipython2",
   "version": "2.7.6"
  }
 },
 "nbformat": 4,
 "nbformat_minor": 5
}
